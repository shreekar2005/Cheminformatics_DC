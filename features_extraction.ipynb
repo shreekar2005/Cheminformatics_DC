{
  "nbformat": 4,
  "nbformat_minor": 0,
  "metadata": {
    "colab": {
      "provenance": [],
      "collapsed_sections": [
        "svIt5l3bdrY_"
      ],
      "include_colab_link": true
    },
    "kernelspec": {
      "name": "python3",
      "display_name": "Python 3"
    },
    "language_info": {
      "name": "python"
    }
  },
  "cells": [
    {
      "cell_type": "markdown",
      "metadata": {
        "id": "view-in-github",
        "colab_type": "text"
      },
      "source": [
        "<a href=\"https://colab.research.google.com/github/shreekar2005/Cheminformatics_DC/blob/main/features_extraction.ipynb\" target=\"_parent\"><img src=\"https://colab.research.google.com/assets/colab-badge.svg\" alt=\"Open In Colab\"/></a>"
      ]
    },
    {
      "cell_type": "markdown",
      "source": [
        "# Loading dataset"
      ],
      "metadata": {
        "id": "svIt5l3bdrY_"
      }
    },
    {
      "cell_type": "code",
      "execution_count": null,
      "metadata": {
        "colab": {
          "base_uri": "https://localhost:8080/"
        },
        "id": "eiHXMskx2ojl",
        "outputId": "983d4f4a-b4bc-4a8f-bea9-b5fcc935142f"
      },
      "outputs": [
        {
          "output_type": "stream",
          "name": "stdout",
          "text": [
            "Downloading from https://www.kaggle.com/api/v1/datasets/download/jessicali9530/lfw-dataset?dataset_version_number=4...\n"
          ]
        },
        {
          "output_type": "stream",
          "name": "stderr",
          "text": [
            "100%|██████████| 112M/112M [00:00<00:00, 143MB/s]"
          ]
        },
        {
          "output_type": "stream",
          "name": "stdout",
          "text": [
            "Extracting files...\n"
          ]
        },
        {
          "output_type": "stream",
          "name": "stderr",
          "text": [
            "\n"
          ]
        },
        {
          "output_type": "stream",
          "name": "stdout",
          "text": [
            "/root/.cache/kagglehub/datasets/jessicali9530/lfw-dataset/versions/4\n"
          ]
        }
      ],
      "source": [
        "import kagglehub\n",
        "\n",
        "# Download latest version\n",
        "path = kagglehub.dataset_download(\"jessicali9530/lfw-dataset\")\n",
        "print(path)"
      ]
    },
    {
      "cell_type": "code",
      "source": [
        "import os\n",
        "images_address=\"/root/.cache/kagglehub/datasets/jessicali9530/lfw-dataset/versions/4/lfw-deepfunneled/lfw-deepfunneled\"\n",
        "labels=os.listdir(images_address)\n",
        "paths_of_images=[]\n",
        "for root, dirs, files in os.walk(images_address):\n",
        "    for file in files:\n",
        "        paths_of_images.append(os.path.join(root, file))\n",
        "\n",
        "print(paths_of_images[:5])"
      ],
      "metadata": {
        "id": "7rZ-bi5f7Mhd",
        "colab": {
          "base_uri": "https://localhost:8080/"
        },
        "outputId": "129a4524-638f-42c5-cab8-349ffc1b2cac"
      },
      "execution_count": null,
      "outputs": [
        {
          "output_type": "stream",
          "name": "stdout",
          "text": [
            "['/root/.cache/kagglehub/datasets/jessicali9530/lfw-dataset/versions/4/lfw-deepfunneled/lfw-deepfunneled/Jason_Sorens/Jason_Sorens_0001.jpg', '/root/.cache/kagglehub/datasets/jessicali9530/lfw-dataset/versions/4/lfw-deepfunneled/lfw-deepfunneled/Guus_Hiddink/Guus_Hiddink_0001.jpg', '/root/.cache/kagglehub/datasets/jessicali9530/lfw-dataset/versions/4/lfw-deepfunneled/lfw-deepfunneled/Gerrit_Zalm/Gerrit_Zalm_0001.jpg', '/root/.cache/kagglehub/datasets/jessicali9530/lfw-dataset/versions/4/lfw-deepfunneled/lfw-deepfunneled/Kenenisa_Bekele/Kenenisa_Bekele_0001.jpg', '/root/.cache/kagglehub/datasets/jessicali9530/lfw-dataset/versions/4/lfw-deepfunneled/lfw-deepfunneled/Jeremy_Shockey/Jeremy_Shockey_0001.jpg']\n"
          ]
        }
      ]
    },
    {
      "cell_type": "markdown",
      "source": [
        "# Filtering dataset"
      ],
      "metadata": {
        "id": "c0M7t-7aD5Uh"
      }
    },
    {
      "cell_type": "markdown",
      "source": [
        "filtering persons who has less than 10 images and storing them in form of dictionary.\n",
        "\n",
        "person_imagepath = {person_name : [img_path1, img_path2, img_path3, ...]}"
      ],
      "metadata": {
        "id": "W0b4WOVxF0Gz"
      }
    },
    {
      "cell_type": "code",
      "source": [
        "import re\n",
        "i=0\n",
        "person_imagepath={}\n",
        "for path in paths_of_images:\n",
        "    i+=1\n",
        "    matchpattern = re.search(r'/([^/]+)_\\d+\\.jpg$', path)\n",
        "    if matchpattern:\n",
        "        if matchpattern.group(1) not in person_imagepath:\n",
        "            person_imagepath[matchpattern.group(1)]=[]\n",
        "        person_imagepath[matchpattern.group(1)].append(path)\n",
        "\n",
        "person_imagepath = {person: images for person, images in person_imagepath.items() if len(images) >= 10}\n",
        "total_filtered_datapoints=0\n",
        "for person in person_imagepath:\n",
        "    total_filtered_datapoints+=len(person_imagepath[person])\n",
        "\n",
        "print(\"total datapoints having person atleast 10 images are\",total_filtered_datapoints)\n"
      ],
      "metadata": {
        "colab": {
          "base_uri": "https://localhost:8080/"
        },
        "id": "81bwLf5yD_va",
        "outputId": "bd54a0b7-cca2-4479-83c7-e04866c786a5"
      },
      "execution_count": null,
      "outputs": [
        {
          "output_type": "stream",
          "name": "stdout",
          "text": [
            "total datapoints having person atleast 10 images are 4324\n"
          ]
        }
      ]
    },
    {
      "cell_type": "markdown",
      "source": [
        "# Extracting CNN features\n"
      ],
      "metadata": {
        "id": "xj82_wJv_WTi"
      }
    },
    {
      "cell_type": "markdown",
      "source": [
        "Using pretrained CNN (ResNet)"
      ],
      "metadata": {
        "id": "ndMl8Q0S74fi"
      }
    },
    {
      "cell_type": "code",
      "source": [
        "#This code can be used to extract pretrained CNN (ResNet) Features.\n",
        "#It takes Image Path and returns 2048-dimensional feature.\n",
        "import torch\n",
        "import torch.nn as nn\n",
        "import torchvision.models as models\n",
        "import torchvision.transforms as transforms\n",
        "from PIL import Image\n",
        "\n",
        "# Load pre-trained ResNet-50 model\n",
        "resnet = models.resnet50(pretrained=True)\n",
        "# Remove the last fully connected layer\n",
        "resnet = nn.Sequential(*list(resnet.children())[:-1])\n",
        "# Set the model to evaluation mode\n",
        "resnet.eval()\n",
        "\n",
        "# Define a function to extract features from an image\n",
        "def extract_features(image_path, model):\n",
        "    # Load and preprocess the image\n",
        "    image = Image.open(image_path).convert('RGB')\n",
        "    preprocess = transforms.Compose([\n",
        "        transforms.Resize(256),\n",
        "        transforms.CenterCrop(224),\n",
        "        transforms.ToTensor(),\n",
        "        transforms.Normalize(mean=[0.485, 0.456, 0.406], std=[0.229, 0.224, 0.225]),\n",
        "    ])\n",
        "    image = preprocess(image)\n",
        "    # Add batch dimension\n",
        "    image = image.unsqueeze(0)\n",
        "    # Extract features\n",
        "    with torch.no_grad():\n",
        "        features = model(image)\n",
        "    # Remove the batch dimension\n",
        "    features = features.squeeze(0)\n",
        "    return features"
      ],
      "metadata": {
        "id": "kPsWo-J67uJ1"
      },
      "execution_count": null,
      "outputs": []
    },
    {
      "cell_type": "code",
      "source": [
        "# saving featrues\n",
        "import pandas as pd\n",
        "import numpy as np\n",
        "data_list=[]\n",
        "i=0\n",
        "for person in person_imagepath :\n",
        "  for path in person_imagepath[person]:\n",
        "      i+=1\n",
        "      features = extract_features(path, resnet)\n",
        "      features = features.flatten().numpy()\n",
        "      datapoint = np.append(features, person)\n",
        "      data_list.append(datapoint)\n",
        "      if i%100==0:\n",
        "          print(i,\"/\",total_filtered_datapoints,\"converted\")\n",
        "df = pd.DataFrame(data_list)\n",
        "df.to_csv(\"filtered_CNN_features_dataset.csv\")\n",
        "df"
      ],
      "metadata": {
        "id": "ZPIR-WN094jt"
      },
      "execution_count": null,
      "outputs": []
    },
    {
      "cell_type": "markdown",
      "source": [
        "# Extracting HoG features"
      ],
      "metadata": {
        "id": "PGZlDRzmOZJk"
      }
    },
    {
      "cell_type": "code",
      "source": [],
      "metadata": {
        "id": "LW41ivV-PVnO"
      },
      "execution_count": null,
      "outputs": []
    },
    {
      "cell_type": "markdown",
      "source": [
        "#Extracting LBP features"
      ],
      "metadata": {
        "id": "v6DhQkEbPWQb"
      }
    },
    {
      "cell_type": "code",
      "source": [],
      "metadata": {
        "id": "zP49tIbzPtfO"
      },
      "execution_count": null,
      "outputs": []
    }
  ]
}