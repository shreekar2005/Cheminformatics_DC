{
  "nbformat": 4,
  "nbformat_minor": 0,
  "metadata": {
    "colab": {
      "provenance": [],
      "gpuType": "T4",
      "include_colab_link": true
    },
    "kernelspec": {
      "name": "python3",
      "display_name": "Python 3"
    },
    "language_info": {
      "name": "python"
    },
    "accelerator": "GPU"
  },
  "cells": [
    {
      "cell_type": "markdown",
      "metadata": {
        "id": "view-in-github",
        "colab_type": "text"
      },
      "source": [
        "<a href=\"https://colab.research.google.com/github/shreekar2005/Cheminformatics_DC/blob/main/DC2_NN_augmented.ipynb\" target=\"_parent\"><img src=\"https://colab.research.google.com/assets/colab-badge.svg\" alt=\"Open In Colab\"/></a>"
      ]
    },
    {
      "cell_type": "code",
      "execution_count": 1,
      "metadata": {
        "id": "GgJmAeq6L2q0"
      },
      "outputs": [],
      "source": [
        "import torch\n",
        "import torch.nn as nn\n",
        "import torch.optim as optim\n",
        "import cudf\n",
        "import cupy as cp\n",
        "import matplotlib.pyplot as plt\n",
        "import seaborn as sns\n",
        "from torch.utils.data import TensorDataset, DataLoader\n",
        "from sklearn.preprocessing import StandardScaler\n",
        "from sklearn.metrics import confusion_matrix\n",
        "import numpy as np\n",
        "from sklearn.metrics import multilabel_confusion_matrix\n",
        "from sklearn.metrics import multilabel_confusion_matrix, classification_report, roc_auc_score\n",
        "from tabulate import tabulate"
      ]
    },
    {
      "cell_type": "code",
      "source": [
        "# Load data into cudf (GPU DataFrame)\n",
        "url1 = 'https://raw.githubusercontent.com/shreekar2005/Cheminformatics_DC/refs/heads/main/DATASET_sorted/TRAIN_dense/tox21_dense_train.csv'\n",
        "url2 = 'https://raw.githubusercontent.com/shreekar2005/Cheminformatics_DC/refs/heads/main/DATASET_sorted/TRAIN_dense/tox21_labels_train.csv'\n",
        "url3 = 'https://raw.githubusercontent.com/shreekar2005/Cheminformatics_DC/refs/heads/main/DATASET_sorted/TEST_dense/tox21_dense_test.csv'\n",
        "url4 = 'https://raw.githubusercontent.com/shreekar2005/Cheminformatics_DC/refs/heads/main/DATASET_sorted/TEST_dense/tox21_labels_test.csv'\n",
        "\n",
        "train_features = cudf.read_csv(url1)\n",
        "train_labels = cudf.read_csv(url2)\n",
        "test_features = cudf.read_csv(url3)\n",
        "test_labels = cudf.read_csv(url4)\n",
        "\n",
        "target_labels = ['NR.AhR', 'NR.AR', 'NR.AR.LBD', 'NR.Aromatase', 'NR.ER', 'NR.ER.LBD',\n",
        "                 'NR.PPAR.gamma', 'SR.ARE', 'SR.ATAD5', 'SR.HSE', 'SR.MMP', 'SR.p53']\n",
        "\n",
        "dense_features = train_features.select_dtypes(include=['float64', 'int64']).columns.tolist()\n",
        "X_train = train_features[dense_features].to_cupy()\n",
        "X_test = test_features[dense_features].to_cupy()\n",
        "\n",
        "# Standardize features for better model performance\n",
        "scaler = StandardScaler()\n",
        "X_train = scaler.fit_transform(X_train.get())\n",
        "X_test = scaler.transform(X_test.get())\n",
        "\n",
        "train_labels[target_labels] = train_labels[target_labels].fillna(0).clip(0, 1)\n",
        "test_labels[target_labels] = test_labels[target_labels].fillna(0).clip(0, 1)\n",
        "\n",
        "y_train = train_labels[target_labels].to_cupy()\n",
        "y_test = test_labels[target_labels].to_cupy()\n",
        "\n",
        "# Convert CuPy arrays to NumPy for PyTorch compatibility\n",
        "y_train = y_train.get()\n",
        "y_test = y_test.get()\n",
        "X_train = X_train\n",
        "X_test = X_test\n",
        "\n",
        "# Convert NumPy arrays to PyTorch tensors\n",
        "def to_tensor(array):\n",
        "    return torch.tensor(array, dtype=torch.float32)\n",
        "\n",
        "X_train_torch = to_tensor(X_train)\n",
        "X_test_torch = to_tensor(X_test)\n",
        "y_train_torch = to_tensor(y_train)\n",
        "y_test_torch = to_tensor(y_test)"
      ],
      "metadata": {
        "id": "ADB_GWKeL7kC"
      },
      "execution_count": 2,
      "outputs": []
    },
    {
      "cell_type": "code",
      "source": [
        "print(X_train_torch.shape)\n",
        "print(y_train_torch.shape)\n",
        "print(X_test_torch.shape)\n",
        "print(y_test_torch.shape)\n",
        "# print(y_test_torch[3])\n",
        "\n",
        "# Number of new samples\n",
        "num_new_samples = 5000\n",
        "\n",
        "# Get the number of existing samples\n",
        "num_samples = X_train_torch.shape[0]\n",
        "\n",
        "# Randomly select indices for triplets\n",
        "idx1 = torch.randint(0, num_samples, (num_new_samples,))\n",
        "idx2 = torch.randint(0, num_samples, (num_new_samples,))\n",
        "idx3 = torch.randint(0, num_samples, (num_new_samples,))\n",
        "\n",
        "# Compute new X by averaging features\n",
        "X_new = (X_train_torch[idx1] + X_train_torch[idx2] + X_train_torch[idx3]) / 3.0\n",
        "\n",
        "# Convert y to boolean before OR operation\n",
        "y_new = (y_train_torch[idx1].bool() | y_train_torch[idx2].bool() | y_train_torch[idx3].bool()).float()\n",
        "\n",
        "# Concatenate with the original dataset\n",
        "X_train_torch_new = torch.cat([X_train_torch, X_new], dim=0)\n",
        "y_train_torch_new = torch.cat([y_train_torch, y_new], dim=0)\n",
        "\n",
        "# Print new shapes\n",
        "print(X_train_torch_new.shape)\n",
        "print(y_train_torch_new.shape)\n",
        "\n",
        "# Create PyTorch DataLoader\n",
        "def create_dataloader(X, y, batch_size=64, shuffle=True):\n",
        "    dataset = TensorDataset(X, y)\n",
        "    return DataLoader(dataset, batch_size=batch_size, shuffle=shuffle)\n",
        "\n",
        "train_loader = create_dataloader(X_train_torch, y_train_torch)\n",
        "test_loader = create_dataloader(X_test_torch, y_test_torch, batch_size=32, shuffle=False)\n"
      ],
      "metadata": {
        "id": "6q5zvnMjO-0S",
        "colab": {
          "base_uri": "https://localhost:8080/"
        },
        "outputId": "2213f7b7-eac8-4992-9a47-5649c217ddd4"
      },
      "execution_count": 3,
      "outputs": [
        {
          "output_type": "stream",
          "name": "stdout",
          "text": [
            "torch.Size([12060, 801])\n",
            "torch.Size([12060, 12])\n",
            "torch.Size([647, 801])\n",
            "torch.Size([647, 12])\n",
            "torch.Size([17060, 801])\n",
            "torch.Size([17060, 12])\n"
          ]
        }
      ]
    },
    {
      "cell_type": "code",
      "source": [
        "# Define Flexible Neural Network Class\n",
        "class FlexibleNN(nn.Module):\n",
        "    def __init__(self, input_size, output_size, hidden_layers=[512, 256], dropout_rate=0.2):\n",
        "        super(FlexibleNN, self).__init__()\n",
        "        layers = []\n",
        "        prev_size = input_size\n",
        "        for layer_size in hidden_layers:\n",
        "            layers.append(nn.Linear(prev_size, layer_size))\n",
        "            layers.append(nn.BatchNorm1d(layer_size))\n",
        "            layers.append(nn.ReLU())\n",
        "            layers.append(nn.Dropout(dropout_rate))\n",
        "            prev_size = layer_size\n",
        "        layers.append(nn.Linear(prev_size, output_size))\n",
        "        layers.append(nn.Sigmoid())  # Multi-label classification\n",
        "        self.model = nn.Sequential(*layers)\n",
        "\n",
        "    def forward(self, x):\n",
        "        return self.model(x)\n"
      ],
      "metadata": {
        "id": "-AVnGmXkMJ23"
      },
      "execution_count": 4,
      "outputs": []
    },
    {
      "cell_type": "code",
      "source": [
        "# Model initialization with flexibility\n",
        "input_size = X_train.shape[1]\n",
        "output_size = y_train.shape[1]\n",
        "\n",
        "hidden_layers = [1024, 512, 256, 512, 256]  # Increased neurons to improve TPR\n",
        "dropout_rate = 0.1  # Reduced dropout rate to retain more features\n",
        "\n",
        "model = FlexibleNN(input_size, output_size, hidden_layers, dropout_rate)\n",
        "device = torch.device(\"cuda\" if torch.cuda.is_available() else \"cpu\")\n",
        "model.to(device)"
      ],
      "metadata": {
        "id": "svJ4mbpJMOW0",
        "colab": {
          "base_uri": "https://localhost:8080/"
        },
        "outputId": "b4adeac4-e587-4771-f5b5-2edbaf70911b"
      },
      "execution_count": 5,
      "outputs": [
        {
          "output_type": "execute_result",
          "data": {
            "text/plain": [
              "FlexibleNN(\n",
              "  (model): Sequential(\n",
              "    (0): Linear(in_features=801, out_features=1024, bias=True)\n",
              "    (1): BatchNorm1d(1024, eps=1e-05, momentum=0.1, affine=True, track_running_stats=True)\n",
              "    (2): ReLU()\n",
              "    (3): Dropout(p=0.1, inplace=False)\n",
              "    (4): Linear(in_features=1024, out_features=512, bias=True)\n",
              "    (5): BatchNorm1d(512, eps=1e-05, momentum=0.1, affine=True, track_running_stats=True)\n",
              "    (6): ReLU()\n",
              "    (7): Dropout(p=0.1, inplace=False)\n",
              "    (8): Linear(in_features=512, out_features=256, bias=True)\n",
              "    (9): BatchNorm1d(256, eps=1e-05, momentum=0.1, affine=True, track_running_stats=True)\n",
              "    (10): ReLU()\n",
              "    (11): Dropout(p=0.1, inplace=False)\n",
              "    (12): Linear(in_features=256, out_features=512, bias=True)\n",
              "    (13): BatchNorm1d(512, eps=1e-05, momentum=0.1, affine=True, track_running_stats=True)\n",
              "    (14): ReLU()\n",
              "    (15): Dropout(p=0.1, inplace=False)\n",
              "    (16): Linear(in_features=512, out_features=256, bias=True)\n",
              "    (17): BatchNorm1d(256, eps=1e-05, momentum=0.1, affine=True, track_running_stats=True)\n",
              "    (18): ReLU()\n",
              "    (19): Dropout(p=0.1, inplace=False)\n",
              "    (20): Linear(in_features=256, out_features=12, bias=True)\n",
              "    (21): Sigmoid()\n",
              "  )\n",
              ")"
            ]
          },
          "metadata": {},
          "execution_count": 5
        }
      ]
    },
    {
      "cell_type": "code",
      "source": [
        "\n",
        "# Custom Weighted BCE Loss to Reduce False Negatives\n",
        "class CustomBCELoss(nn.Module):\n",
        "    def __init__(self, pos_weight=2.0):  # Increase weight for positives\n",
        "        super(CustomBCELoss, self).__init__()\n",
        "        self.bce = nn.BCEWithLogitsLoss(pos_weight=torch.tensor([pos_weight], device=device))\n",
        "\n",
        "    def forward(self, outputs, targets):\n",
        "        loss = self.bce(outputs, targets)\n",
        "        return loss\n",
        "\n",
        "# Define loss with higher positive weight\n",
        "criterion = CustomBCELoss(pos_weight=10.0)  # Increase this if FN still exists\n",
        "optimizer = optim.Adam(model.parameters(), lr=0.001)\n",
        "\n",
        "# Training loop\n",
        "def train_model(model, train_loader, criterion, optimizer, epochs=20):\n",
        "    model.train()\n",
        "    epoch_losses = []  # Store loss values for plotting\n",
        "    for epoch in range(epochs):\n",
        "        total_loss = 0\n",
        "        for X_batch, y_batch in train_loader:\n",
        "            X_batch, y_batch = X_batch.to(device), y_batch.to(device)\n",
        "            optimizer.zero_grad()\n",
        "            outputs = model(X_batch)\n",
        "            loss = criterion(outputs, y_batch)\n",
        "            loss.backward()\n",
        "            optimizer.step()\n",
        "            total_loss += loss.item()\n",
        "        avg_loss = total_loss / len(train_loader)\n",
        "        epoch_losses.append(avg_loss)\n",
        "        print(f\"Epoch {epoch+1}/{epochs}, Loss: {avg_loss:.4f}\")\n",
        "\n",
        "    # Plot loss vs epochs\n",
        "    plt.figure(figsize=(8, 5))\n",
        "    plt.plot(range(1, epochs + 1), epoch_losses, marker='o', linestyle='-', color='b', label=\"Training Loss\")\n",
        "    plt.xlabel(\"Epochs\")\n",
        "    plt.ylabel(\"Loss\")\n",
        "    plt.title(\"Training Loss vs. Epochs\")\n",
        "    plt.legend()\n",
        "    plt.grid(True)\n",
        "    plt.show()"
      ],
      "metadata": {
        "id": "7xFLGl6JMgCO"
      },
      "execution_count": 6,
      "outputs": []
    },
    {
      "cell_type": "code",
      "source": [
        "# Training\n",
        "train_model(model, train_loader, criterion, optimizer, epochs=20)"
      ],
      "metadata": {
        "id": "c6Z1EdtnMl1g",
        "colab": {
          "base_uri": "https://localhost:8080/",
          "height": 834
        },
        "outputId": "79a5d573-f6e1-4de1-f8b9-c9eb53899818"
      },
      "execution_count": 7,
      "outputs": [
        {
          "output_type": "stream",
          "name": "stdout",
          "text": [
            "Epoch 1/20, Loss: 0.9954\n",
            "Epoch 2/20, Loss: 0.9685\n",
            "Epoch 3/20, Loss: 0.9630\n",
            "Epoch 4/20, Loss: 0.9600\n",
            "Epoch 5/20, Loss: 0.9576\n",
            "Epoch 6/20, Loss: 0.9549\n",
            "Epoch 7/20, Loss: 0.9540\n",
            "Epoch 8/20, Loss: 0.9524\n",
            "Epoch 9/20, Loss: 0.9502\n",
            "Epoch 10/20, Loss: 0.9489\n",
            "Epoch 11/20, Loss: 0.9465\n",
            "Epoch 12/20, Loss: 0.9459\n",
            "Epoch 13/20, Loss: 0.9455\n",
            "Epoch 14/20, Loss: 0.9434\n",
            "Epoch 15/20, Loss: 0.9442\n",
            "Epoch 16/20, Loss: 0.9408\n",
            "Epoch 17/20, Loss: 0.9397\n",
            "Epoch 18/20, Loss: 0.9393\n",
            "Epoch 19/20, Loss: 0.9377\n",
            "Epoch 20/20, Loss: 0.9380\n"
          ]
        },
        {
          "output_type": "display_data",
          "data": {
            "text/plain": [
              "<Figure size 800x500 with 1 Axes>"
            ],
            "image/png": "[encoded data removed]"
          },
          "metadata": {}
        }
      ]
    },
    {
      "cell_type": "code",
      "source": [
        "# Evaluation function\n",
        "def evaluate_model(model, test_loader, device):\n",
        "    model.eval()\n",
        "    all_preds, all_labels = [], []\n",
        "    with torch.no_grad():\n",
        "        for X_batch, y_batch in test_loader:\n",
        "            X_batch = X_batch.to(device)\n",
        "            outputs = model(X_batch).cpu().numpy()\n",
        "            all_preds.append(outputs)\n",
        "            all_labels.append(y_batch.numpy())\n",
        "    return np.vstack(all_preds), np.vstack(all_labels)\n",
        "\n",
        "# Get predictions from the model\n",
        "preds, labels = evaluate_model(model, test_loader, device)\n",
        "\n",
        "# Apply threshold\n",
        "threshold = 0.5\n",
        "preds = (preds > threshold).astype(int)\n",
        "\n",
        "# Initialize result containers\n",
        "results_table = []\n",
        "macro_precisions, macro_recalls, macro_f1s = [], [], []\n",
        "weighted_precisions, weighted_recalls, weighted_f1s = [], [], []\n",
        "total_support = 0\n",
        "\n",
        "print(\"\\n\" + \"-\"*60)\n",
        "print(\"Final Classification Report for Selected Assays (Class 1 only):\")\n",
        "print(\"-\"*60)\n",
        "\n",
        "# Loop over each assay\n",
        "for i, label in enumerate(target_labels):\n",
        "    true_labels = labels[:, i]\n",
        "    preds_label = preds[:, i]\n",
        "\n",
        "    # if np.sum(true_labels) == 0 or np.sum(preds_label) == 0:\n",
        "    #     continue\n",
        "\n",
        "    report = classification_report(true_labels, preds_label, output_dict=True)\n",
        "    tn, fp, fn, tp = confusion_matrix(true_labels, preds_label).ravel()\n",
        "    auc = roc_auc_score(true_labels, preds_label)\n",
        "\n",
        "    support_1 = fn + tp\n",
        "    support_total = tn + fp + fn + tp\n",
        "\n",
        "    precision_1 = tp / (tp + fp) if (tp + fp) > 0 else 0.0\n",
        "    recall_1 = tp / (tp + fn) if (tp + fn) > 0 else 0.0\n",
        "    f1_1 = (2 * precision_1 * recall_1) / (precision_1 + recall_1) if (precision_1 + recall_1) > 0 else 0.0\n",
        "\n",
        "    results_table.append([\n",
        "        f\"Assay {i+1}: {label}\", f\"{precision_1:.4f}\", f\"{recall_1:.4f}\", f\"{f1_1:.4f}\",\n",
        "        support_total, f\"{tn}\", f\"{fp}\", f\"{fn}\", f\"{tp}\", f\"{auc:.5f}\"\n",
        "    ])\n",
        "\n",
        "    macro_precisions.append(precision_1)\n",
        "    macro_recalls.append(recall_1)\n",
        "    macro_f1s.append(f1_1)\n",
        "\n",
        "    weighted_precisions.append(precision_1 * support_1)\n",
        "    weighted_recalls.append(recall_1 * support_1)\n",
        "    weighted_f1s.append(f1_1 * support_1)\n",
        "    total_support += support_1\n",
        "\n",
        "# Print detailed table\n",
        "headers = [\"Assay\", \"Precision\", \"Recall\", \"F1-Score\", \"Support\", \"TN\", \"FP\", \"FN\", \"TP\", \"AUC\"]\n",
        "print(tabulate(results_table, headers=headers, tablefmt=\"fancy_grid\"))\n",
        "\n",
        "# Print summary averages\n",
        "summary_table = [[\n",
        "    \"Macro Avg\", f\"{np.mean(macro_precisions):.6f}\", f\"{np.mean(macro_recalls):.6f}\",\n",
        "    f\"{np.mean(macro_f1s):.6f}\"\n",
        "], [\n",
        "    \"Weighted Avg\", f\"{np.sum(weighted_precisions)/total_support:.6f}\",\n",
        "    f\"{np.sum(weighted_recalls)/total_support:.6f}\",\n",
        "    f\"{np.sum(weighted_f1s)/total_support:.6f}\"\n",
        "]]\n",
        "print(\"\\n\" + tabulate(summary_table, headers=[\"Metric\", \"Precision\", \"Recall\", \"F1-Score\"], tablefmt=\"fancy_grid\"))"
      ],
      "metadata": {
        "id": "TET03Q-UPcuR",
        "outputId": "47453fb8-2aeb-4637-889a-c30c1b89d9e5",
        "colab": {
          "base_uri": "https://localhost:8080/"
        }
      },
      "execution_count": 8,
      "outputs": [
        {
          "output_type": "stream",
          "name": "stdout",
          "text": [
            "\n",
            "------------------------------------------------------------\n",
            "Final Classification Report for Selected Assays (Class 1 only):\n",
            "------------------------------------------------------------\n",
            "╒════════════════════════╤═════════════╤══════════╤════════════╤═══════════╤══════╤══════╤══════╤══════╤═════════╕\n",
            "│ Assay                  │   Precision │   Recall │   F1-Score │   Support │   TN │   FP │   FN │   TP │     AUC │\n",
            "╞════════════════════════╪═════════════╪══════════╪════════════╪═══════════╪══════╪══════╪══════╪══════╪═════════╡\n",
            "│ Assay 1: NR.AhR        │      0.4296 │   0.7945 │     0.5577 │       647 │  497 │   77 │   15 │   58 │ 0.83019 │\n",
            "├────────────────────────┼─────────────┼──────────┼────────────┼───────────┼──────┼──────┼──────┼──────┼─────────┤\n",
            "│ Assay 2: NR.AR         │      0.1818 │   0.1667 │     0.1739 │       647 │  626 │    9 │   10 │    2 │ 0.57625 │\n",
            "├────────────────────────┼─────────────┼──────────┼────────────┼───────────┼──────┼──────┼──────┼──────┼─────────┤\n",
            "│ Assay 3: NR.AR.LBD     │      0      │   0      │     0      │       647 │  631 │    8 │    8 │    0 │ 0.49374 │\n",
            "├────────────────────────┼─────────────┼──────────┼────────────┼───────────┼──────┼──────┼──────┼──────┼─────────┤\n",
            "│ Assay 4: NR.Aromatase  │      0      │   0      │     0      │       647 │  608 │    0 │   39 │    0 │ 0.5     │\n",
            "├────────────────────────┼─────────────┼──────────┼────────────┼───────────┼──────┼──────┼──────┼──────┼─────────┤\n",
            "│ Assay 5: NR.ER         │      0.451  │   0.451  │     0.451  │       647 │  568 │   28 │   28 │   23 │ 0.702   │\n",
            "├────────────────────────┼─────────────┼──────────┼────────────┼───────────┼──────┼──────┼──────┼──────┼─────────┤\n",
            "│ Assay 6: NR.ER.LBD     │      0.2069 │   0.3    │     0.2449 │       647 │  604 │   23 │   14 │    6 │ 0.63166 │\n",
            "├────────────────────────┼─────────────┼──────────┼────────────┼───────────┼──────┼──────┼──────┼──────┼─────────┤\n",
            "│ Assay 7: NR.PPAR.gamma │      0      │   0      │     0      │       647 │  616 │    0 │   31 │    0 │ 0.5     │\n",
            "├────────────────────────┼─────────────┼──────────┼────────────┼───────────┼──────┼──────┼──────┼──────┼─────────┤\n",
            "│ Assay 8: SR.ARE        │      0.3026 │   0.4946 │     0.3755 │       647 │  448 │  106 │   47 │   46 │ 0.65164 │\n",
            "├────────────────────────┼─────────────┼──────────┼────────────┼───────────┼──────┼──────┼──────┼──────┼─────────┤\n",
            "│ Assay 9: SR.ATAD5      │      0.4444 │   0.2105 │     0.2857 │       647 │  599 │   10 │   30 │    8 │ 0.59705 │\n",
            "├────────────────────────┼─────────────┼──────────┼────────────┼───────────┼──────┼──────┼──────┼──────┼─────────┤\n",
            "│ Assay 10: SR.HSE       │      0.2727 │   0.4091 │     0.3273 │       647 │  601 │   24 │   13 │    9 │ 0.68535 │\n",
            "├────────────────────────┼─────────────┼──────────┼────────────┼───────────┼──────┼──────┼──────┼──────┼─────────┤\n",
            "│ Assay 11: SR.MMP       │      0.2908 │   0.6833 │     0.408  │       647 │  487 │  100 │   19 │   41 │ 0.75649 │\n",
            "├────────────────────────┼─────────────┼──────────┼────────────┼───────────┼──────┼──────┼──────┼──────┼─────────┤\n",
            "│ Assay 12: SR.p53       │      0.2619 │   0.2683 │     0.2651 │       647 │  575 │   31 │   30 │   11 │ 0.60857 │\n",
            "╘════════════════════════╧═════════════╧══════════╧════════════╧═══════════╧══════╧══════╧══════╧══════╧═════════╛\n",
            "\n",
            "╒══════════════╤═════════════╤══════════╤════════════╕\n",
            "│ Metric       │   Precision │   Recall │   F1-Score │\n",
            "╞══════════════╪═════════════╪══════════╪════════════╡\n",
            "│ Macro Avg    │    0.236818 │ 0.314836 │   0.257417 │\n",
            "├──────────────┼─────────────┼──────────┼────────────┤\n",
            "│ Weighted Avg │    0.286683 │ 0.418033 │   0.325863 │\n",
            "╘══════════════╧═════════════╧══════════╧════════════╛\n"
          ]
        },
        {
          "output_type": "stream",
          "name": "stderr",
          "text": [
            "/usr/local/lib/python3.11/dist-packages/sklearn/metrics/_classification.py:1565: UndefinedMetricWarning: Precision is ill-defined and being set to 0.0 in labels with no predicted samples. Use `zero_division` parameter to control this behavior.\n",
            "  _warn_prf(average, modifier, f\"{metric.capitalize()} is\", len(result))\n",
            "/usr/local/lib/python3.11/dist-packages/sklearn/metrics/_classification.py:1565: UndefinedMetricWarning: Precision is ill-defined and being set to 0.0 in labels with no predicted samples. Use `zero_division` parameter to control this behavior.\n",
            "  _warn_prf(average, modifier, f\"{metric.capitalize()} is\", len(result))\n",
            "/usr/local/lib/python3.11/dist-packages/sklearn/metrics/_classification.py:1565: UndefinedMetricWarning: Precision is ill-defined and being set to 0.0 in labels with no predicted samples. Use `zero_division` parameter to control this behavior.\n",
            "  _warn_prf(average, modifier, f\"{metric.capitalize()} is\", len(result))\n",
            "/usr/local/lib/python3.11/dist-packages/sklearn/metrics/_classification.py:1565: UndefinedMetricWarning: Precision is ill-defined and being set to 0.0 in labels with no predicted samples. Use `zero_division` parameter to control this behavior.\n",
            "  _warn_prf(average, modifier, f\"{metric.capitalize()} is\", len(result))\n",
            "/usr/local/lib/python3.11/dist-packages/sklearn/metrics/_classification.py:1565: UndefinedMetricWarning: Precision is ill-defined and being set to 0.0 in labels with no predicted samples. Use `zero_division` parameter to control this behavior.\n",
            "  _warn_prf(average, modifier, f\"{metric.capitalize()} is\", len(result))\n",
            "/usr/local/lib/python3.11/dist-packages/sklearn/metrics/_classification.py:1565: UndefinedMetricWarning: Precision is ill-defined and being set to 0.0 in labels with no predicted samples. Use `zero_division` parameter to control this behavior.\n",
            "  _warn_prf(average, modifier, f\"{metric.capitalize()} is\", len(result))\n"
          ]
        }
      ]
    }
  ]
}