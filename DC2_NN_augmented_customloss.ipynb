{
  "nbformat": 4,
  "nbformat_minor": 0,
  "metadata": {
    "colab": {
      "provenance": [],
      "gpuType": "T4",
      "include_colab_link": true
    },
    "kernelspec": {
      "name": "python3",
      "display_name": "Python 3"
    },
    "language_info": {
      "name": "python"
    },
    "accelerator": "GPU"
  },
  "cells": [
    {
      "cell_type": "markdown",
      "metadata": {
        "id": "view-in-github",
        "colab_type": "text"
      },
      "source": [
        "<a href=\"https://colab.research.google.com/github/shreekar2005/Cheminformatics_DC/blob/main/DC2_NN_augmented.ipynb\" target=\"_parent\"><img src=\"https://colab.research.google.com/assets/colab-badge.svg\" alt=\"Open In Colab\"/></a>"
      ]
    },
    {
      "cell_type": "code",
      "execution_count": 7,
      "metadata": {
        "id": "GgJmAeq6L2q0"
      },
      "outputs": [],
      "source": [
        "import torch\n",
        "import torch.nn as nn\n",
        "import torch.optim as optim\n",
        "import cudf\n",
        "import cupy as cp\n",
        "import matplotlib.pyplot as plt\n",
        "import seaborn as sns\n",
        "from torch.utils.data import TensorDataset, DataLoader\n",
        "from sklearn.preprocessing import StandardScaler\n",
        "from sklearn.metrics import confusion_matrix\n",
        "import numpy as np\n",
        "from sklearn.metrics import multilabel_confusion_matrix\n",
        "from sklearn.metrics import multilabel_confusion_matrix, classification_report, roc_auc_score\n",
        "from tabulate import tabulate\n",
        "import pandas as pd\n",
        "from scipy import io"
      ]
    },
    {
      "cell_type": "code",
      "source": [
        "from google.colab import drive\n",
        "drive.mount('/content/drive')"
      ],
      "metadata": {
        "id": "AAJe6reyujQV",
        "outputId": "0dd2bde0-adc0-47af-eb76-d3c3a75e2d5d",
        "colab": {
          "base_uri": "https://localhost:8080/"
        }
      },
      "execution_count": 3,
      "outputs": [
        {
          "output_type": "stream",
          "name": "stdout",
          "text": [
            "Mounted at /content/drive\n"
          ]
        }
      ]
    },
    {
      "cell_type": "code",
      "source": [
        "# Load Data using Pandas\n",
        "y_tr = pd.read_csv('drive/MyDrive/DATASET/tox21_labels_train.csv.gz', index_col=0, compression=\"gzip\")\n",
        "y_te = pd.read_csv('drive/MyDrive/DATASET/tox21_labels_test.csv.gz', index_col=0, compression=\"gzip\")\n",
        "x_tr_dense = pd.read_csv('drive/MyDrive/DATASET/tox21_dense_train.csv.gz', index_col=0, compression=\"gzip\").values\n",
        "x_te_dense = pd.read_csv('drive/MyDrive/DATASET/tox21_dense_test.csv.gz', index_col=0, compression=\"gzip\").values\n",
        "x_tr_sparse = io.mmread('drive/MyDrive/DATASET/tox21_sparse_train.mtx.gz').tocsc()\n",
        "x_te_sparse = io.mmread('drive/MyDrive/DATASET/tox21_sparse_test.mtx.gz').tocsc()\n",
        "\n",
        "# Filter out very sparse features\n",
        "sparse_col_idx = ((x_tr_sparse > 0).mean(0) > 0.05).A.ravel()\n",
        "x_tr = np.hstack([x_tr_dense, x_tr_sparse[:, sparse_col_idx].toarray()])\n",
        "x_te = np.hstack([x_te_dense, x_te_sparse[:, sparse_col_idx].toarray()])\n",
        "\n",
        "# Standardize features\n",
        "scaler = StandardScaler()\n",
        "x_tr = scaler.fit_transform(x_tr)\n",
        "x_te = scaler.transform(x_te)\n",
        "\n",
        "# Fill missing values in labels\n",
        "target_labels = ['NR.AhR', 'NR.AR', 'NR.AR.LBD', 'NR.Aromatase', 'NR.ER', 'NR.ER.LBD',\n",
        "                 'NR.PPAR.gamma', 'SR.ARE', 'SR.ATAD5', 'SR.HSE', 'SR.MMP', 'SR.p53']\n",
        "y_tr[target_labels] = y_tr[target_labels].fillna(0).clip(0, 1)\n",
        "y_te[target_labels] = y_te[target_labels].fillna(0).clip(0, 1)\n",
        "\n",
        "# Convert to PyTorch tensors on CPU\n",
        "device = torch.device(\"cpu\")\n",
        "X_train_torch = torch.tensor(x_tr, dtype=torch.float32)\n",
        "X_test_torch = torch.tensor(x_te, dtype=torch.float32)\n",
        "y_train_torch = torch.tensor(y_tr[target_labels].values, dtype=torch.float32)\n",
        "y_test_torch = torch.tensor(y_te[target_labels].values, dtype=torch.float32)\n",
        "\n",
        "print(\"X_train_torch.shape =\", X_train_torch.shape)\n",
        "print(\"y_train_torch.shape =\", y_train_torch.shape)\n",
        "print(\"X_test_torch.shape =\", X_test_torch.shape)\n",
        "print(\"y_test_torch.shape =\", y_test_torch.shape)"
      ],
      "metadata": {
        "id": "ADB_GWKeL7kC",
        "outputId": "097b159a-738e-45d9-82e2-85461b0030f1",
        "colab": {
          "base_uri": "https://localhost:8080/"
        }
      },
      "execution_count": 8,
      "outputs": [
        {
          "output_type": "stream",
          "name": "stdout",
          "text": [
            "X_train_torch.shape = torch.Size([12060, 1644])\n",
            "y_train_torch.shape = torch.Size([12060, 12])\n",
            "X_test_torch.shape = torch.Size([647, 1644])\n",
            "y_test_torch.shape = torch.Size([647, 12])\n"
          ]
        }
      ]
    },
    {
      "cell_type": "code",
      "source": [
        "print(X_train_torch.shape)\n",
        "print(y_train_torch.shape)\n",
        "print(X_test_torch.shape)\n",
        "print(y_test_torch.shape)\n",
        "# print(y_test_torch[3])\n",
        "\n",
        "# Number of new samples\n",
        "num_new_samples = 5000\n",
        "\n",
        "# Get the number of existing samples\n",
        "num_samples = X_train_torch.shape[0]\n",
        "\n",
        "# Randomly select indices for triplets\n",
        "idx1 = torch.randint(0, num_samples, (num_new_samples,))\n",
        "idx2 = torch.randint(0, num_samples, (num_new_samples,))\n",
        "idx3 = torch.randint(0, num_samples, (num_new_samples,))\n",
        "\n",
        "# Compute new X by averaging features\n",
        "X_new = (X_train_torch[idx1] + X_train_torch[idx2] + X_train_torch[idx3]) / 3.0\n",
        "\n",
        "# Convert y to boolean before OR operation\n",
        "y_new = (y_train_torch[idx1].bool() | y_train_torch[idx2].bool() | y_train_torch[idx3].bool()).float()\n",
        "\n",
        "# Concatenate with the original dataset\n",
        "X_train_torch_new = torch.cat([X_train_torch, X_new], dim=0)\n",
        "y_train_torch_new = torch.cat([y_train_torch, y_new], dim=0)\n",
        "\n",
        "# Print new shapes\n",
        "print(X_train_torch_new.shape)\n",
        "print(y_train_torch_new.shape)\n",
        "\n",
        "# Create PyTorch DataLoader\n",
        "def create_dataloader(X, y, batch_size=64, shuffle=True):\n",
        "    dataset = TensorDataset(X, y)\n",
        "    return DataLoader(dataset, batch_size=batch_size, shuffle=shuffle)\n",
        "\n",
        "train_loader = create_dataloader(X_train_torch, y_train_torch)\n",
        "test_loader = create_dataloader(X_test_torch, y_test_torch, batch_size=32, shuffle=False)\n"
      ],
      "metadata": {
        "id": "6q5zvnMjO-0S",
        "colab": {
          "base_uri": "https://localhost:8080/"
        },
        "outputId": "3031fad3-0fcd-4ded-920c-a94155cc40d3"
      },
      "execution_count": 9,
      "outputs": [
        {
          "output_type": "stream",
          "name": "stdout",
          "text": [
            "torch.Size([12060, 1644])\n",
            "torch.Size([12060, 12])\n",
            "torch.Size([647, 1644])\n",
            "torch.Size([647, 12])\n",
            "torch.Size([17060, 1644])\n",
            "torch.Size([17060, 12])\n"
          ]
        }
      ]
    },
    {
      "cell_type": "code",
      "source": [
        "# Define Flexible Neural Network Class\n",
        "class FlexibleNN(nn.Module):\n",
        "    def __init__(self, input_size, output_size, hidden_layers=[512, 256], dropout_rate=0.2):\n",
        "        super(FlexibleNN, self).__init__()\n",
        "        layers = []\n",
        "        prev_size = input_size\n",
        "        for layer_size in hidden_layers:\n",
        "            layers.append(nn.Linear(prev_size, layer_size))\n",
        "            layers.append(nn.BatchNorm1d(layer_size))\n",
        "            layers.append(nn.ReLU())\n",
        "            layers.append(nn.Dropout(dropout_rate))\n",
        "            prev_size = layer_size\n",
        "        layers.append(nn.Linear(prev_size, output_size))\n",
        "        layers.append(nn.Sigmoid())  # Multi-label classification\n",
        "        self.model = nn.Sequential(*layers)\n",
        "\n",
        "    def forward(self, x):\n",
        "        return self.model(x)\n"
      ],
      "metadata": {
        "id": "-AVnGmXkMJ23"
      },
      "execution_count": 24,
      "outputs": []
    },
    {
      "cell_type": "code",
      "source": [
        "# Model initialization with flexibility\n",
        "input_size = x_tr.shape[1]\n",
        "output_size = y_tr.shape[1]\n",
        "\n",
        "hidden_layers = [1024, 512, 256, 512, 256]  # Increased neurons to improve TPR\n",
        "dropout_rate = 0.1  # Reduced dropout rate to retain more features\n",
        "\n",
        "model = FlexibleNN(input_size, output_size, hidden_layers, dropout_rate)\n",
        "device = torch.device(\"cuda\" if torch.cuda.is_available() else \"cpu\")\n",
        "model.to(device)"
      ],
      "metadata": {
        "id": "svJ4mbpJMOW0",
        "colab": {
          "base_uri": "https://localhost:8080/"
        },
        "outputId": "2b53b6e1-9f48-4181-b969-d8edcc9fb22d"
      },
      "execution_count": 25,
      "outputs": [
        {
          "output_type": "execute_result",
          "data": {
            "text/plain": [
              "FlexibleNN(\n",
              "  (model): Sequential(\n",
              "    (0): Linear(in_features=1644, out_features=1024, bias=True)\n",
              "    (1): BatchNorm1d(1024, eps=1e-05, momentum=0.1, affine=True, track_running_stats=True)\n",
              "    (2): ReLU()\n",
              "    (3): Dropout(p=0.1, inplace=False)\n",
              "    (4): Linear(in_features=1024, out_features=512, bias=True)\n",
              "    (5): BatchNorm1d(512, eps=1e-05, momentum=0.1, affine=True, track_running_stats=True)\n",
              "    (6): ReLU()\n",
              "    (7): Dropout(p=0.1, inplace=False)\n",
              "    (8): Linear(in_features=512, out_features=256, bias=True)\n",
              "    (9): BatchNorm1d(256, eps=1e-05, momentum=0.1, affine=True, track_running_stats=True)\n",
              "    (10): ReLU()\n",
              "    (11): Dropout(p=0.1, inplace=False)\n",
              "    (12): Linear(in_features=256, out_features=512, bias=True)\n",
              "    (13): BatchNorm1d(512, eps=1e-05, momentum=0.1, affine=True, track_running_stats=True)\n",
              "    (14): ReLU()\n",
              "    (15): Dropout(p=0.1, inplace=False)\n",
              "    (16): Linear(in_features=512, out_features=256, bias=True)\n",
              "    (17): BatchNorm1d(256, eps=1e-05, momentum=0.1, affine=True, track_running_stats=True)\n",
              "    (18): ReLU()\n",
              "    (19): Dropout(p=0.1, inplace=False)\n",
              "    (20): Linear(in_features=256, out_features=12, bias=True)\n",
              "    (21): Sigmoid()\n",
              "  )\n",
              ")"
            ]
          },
          "metadata": {},
          "execution_count": 25
        }
      ]
    },
    {
      "cell_type": "code",
      "source": [
        "\n",
        "# Custom Weighted BCE Loss to Reduce False Negatives\n",
        "class CustomBCELoss(nn.Module):\n",
        "    def __init__(self, pos_weight=2.0):  # Increase weight for positives\n",
        "        super(CustomBCELoss, self).__init__()\n",
        "        self.bce = nn.BCEWithLogitsLoss(pos_weight=torch.tensor([pos_weight], device=device))\n",
        "\n",
        "    def forward(self, outputs, targets):\n",
        "        loss = self.bce(outputs, targets)\n",
        "        return loss\n",
        "\n",
        "# Define loss with higher positive weight\n",
        "criterion = CustomBCELoss(pos_weight=10.0)  # Increase this if FN still exists\n",
        "optimizer = optim.Adam(model.parameters(), lr=0.001)\n",
        "\n",
        "# Training loop\n",
        "def train_model(model, train_loader, criterion, optimizer, epochs=20):\n",
        "    model.train()\n",
        "    epoch_losses = []  # Store loss values for plotting\n",
        "    for epoch in range(epochs):\n",
        "        total_loss = 0\n",
        "        for X_batch, y_batch in train_loader:\n",
        "            X_batch, y_batch = X_batch.to(device), y_batch.to(device)\n",
        "            optimizer.zero_grad()\n",
        "            outputs = model(X_batch)\n",
        "            loss = criterion(outputs, y_batch)\n",
        "            loss.backward()\n",
        "            optimizer.step()\n",
        "            total_loss += loss.item()\n",
        "        avg_loss = total_loss / len(train_loader)\n",
        "        epoch_losses.append(avg_loss)\n",
        "        print(f\"Epoch {epoch+1}/{epochs}, Loss: {avg_loss:.4f}\")\n",
        "\n",
        "    # Plot loss vs epochs\n",
        "    plt.figure(figsize=(8, 5))\n",
        "    plt.plot(range(1, epochs + 1), epoch_losses, marker='o', linestyle='-', color='b', label=\"Training Loss\")\n",
        "    plt.xlabel(\"Epochs\")\n",
        "    plt.ylabel(\"Loss\")\n",
        "    plt.title(\"Training Loss vs. Epochs\")\n",
        "    plt.legend()\n",
        "    plt.grid(True)\n",
        "    plt.show()"
      ],
      "metadata": {
        "id": "7xFLGl6JMgCO"
      },
      "execution_count": 26,
      "outputs": []
    },
    {
      "cell_type": "code",
      "source": [
        "# Training\n",
        "train_model(model, train_loader, criterion, optimizer, epochs=50)"
      ],
      "metadata": {
        "id": "c6Z1EdtnMl1g",
        "colab": {
          "base_uri": "https://localhost:8080/",
          "height": 1000
        },
        "outputId": "1560edd2-3426-4578-90bd-f66cb40d3980"
      },
      "execution_count": 27,
      "outputs": [
        {
          "output_type": "stream",
          "name": "stdout",
          "text": [
            "Epoch 1/50, Loss: 0.9892\n",
            "Epoch 2/50, Loss: 0.9593\n",
            "Epoch 3/50, Loss: 0.9531\n",
            "Epoch 4/50, Loss: 0.9500\n",
            "Epoch 5/50, Loss: 0.9459\n",
            "Epoch 6/50, Loss: 0.9441\n",
            "Epoch 7/50, Loss: 0.9391\n",
            "Epoch 8/50, Loss: 0.9383\n",
            "Epoch 9/50, Loss: 0.9352\n",
            "Epoch 10/50, Loss: 0.9339\n",
            "Epoch 11/50, Loss: 0.9309\n",
            "Epoch 12/50, Loss: 0.9291\n",
            "Epoch 13/50, Loss: 0.9274\n",
            "Epoch 14/50, Loss: 0.9239\n",
            "Epoch 15/50, Loss: 0.9243\n",
            "Epoch 16/50, Loss: 0.9227\n",
            "Epoch 17/50, Loss: 0.9212\n",
            "Epoch 18/50, Loss: 0.9214\n",
            "Epoch 19/50, Loss: 0.9172\n",
            "Epoch 20/50, Loss: 0.9162\n",
            "Epoch 21/50, Loss: 0.9157\n",
            "Epoch 22/50, Loss: 0.9142\n",
            "Epoch 23/50, Loss: 0.9142\n",
            "Epoch 24/50, Loss: 0.9123\n",
            "Epoch 25/50, Loss: 0.9125\n",
            "Epoch 26/50, Loss: 0.9094\n",
            "Epoch 27/50, Loss: 0.9102\n",
            "Epoch 28/50, Loss: 0.9099\n",
            "Epoch 29/50, Loss: 0.9080\n",
            "Epoch 30/50, Loss: 0.9079\n",
            "Epoch 31/50, Loss: 0.9069\n",
            "Epoch 32/50, Loss: 0.9061\n",
            "Epoch 33/50, Loss: 0.9053\n",
            "Epoch 34/50, Loss: 0.9049\n",
            "Epoch 35/50, Loss: 0.9035\n",
            "Epoch 36/50, Loss: 0.9030\n",
            "Epoch 37/50, Loss: 0.9036\n",
            "Epoch 38/50, Loss: 0.9026\n",
            "Epoch 39/50, Loss: 0.9014\n",
            "Epoch 40/50, Loss: 0.9016\n",
            "Epoch 41/50, Loss: 0.9000\n",
            "Epoch 42/50, Loss: 0.9001\n",
            "Epoch 43/50, Loss: 0.9001\n",
            "Epoch 44/50, Loss: 0.9005\n",
            "Epoch 45/50, Loss: 0.8983\n",
            "Epoch 46/50, Loss: 0.8988\n",
            "Epoch 47/50, Loss: 0.8986\n",
            "Epoch 48/50, Loss: 0.8978\n",
            "Epoch 49/50, Loss: 0.8962\n",
            "Epoch 50/50, Loss: 0.8970\n"
          ]
        },
        {
          "output_type": "display_data",
          "data": {
            "text/plain": [
              "<Figure size 800x500 with 1 Axes>"
            ],
            "image/png": "[encoded data removed]"
          },
          "metadata": {}
        }
      ]
    },
    {
      "cell_type": "code",
      "source": [
        "# Evaluation function\n",
        "def evaluate_model(model, test_loader, device):\n",
        "    model.eval()\n",
        "    all_preds, all_labels = [], []\n",
        "    with torch.no_grad():\n",
        "        for X_batch, y_batch in test_loader:\n",
        "            X_batch = X_batch.to(device)\n",
        "            outputs = model(X_batch).cpu().numpy()\n",
        "            all_preds.append(outputs)\n",
        "            all_labels.append(y_batch.numpy())\n",
        "    return np.vstack(all_preds), np.vstack(all_labels)\n",
        "\n",
        "# Get predictions from the model\n",
        "preds, labels = evaluate_model(model, test_loader, device)\n",
        "\n",
        "# Apply threshold\n",
        "threshold = 0.5\n",
        "preds = (preds > threshold).astype(int)\n",
        "\n",
        "# Initialize result containers\n",
        "results_table = []\n",
        "macro_precisions, macro_recalls, macro_f1s = [], [], []\n",
        "weighted_precisions, weighted_recalls, weighted_f1s = [], [], []\n",
        "total_support = 0\n",
        "\n",
        "print(\"\\n\" + \"-\"*60)\n",
        "print(\"Final Classification Report for Selected Assays (Class 1 only):\")\n",
        "print(\"-\"*60)\n",
        "\n",
        "# Loop over each assay\n",
        "for i, label in enumerate(target_labels):\n",
        "    true_labels = labels[:, i]\n",
        "    preds_label = preds[:, i]\n",
        "\n",
        "    # if np.sum(true_labels) == 0 or np.sum(preds_label) == 0:\n",
        "    #     continue\n",
        "\n",
        "    report = classification_report(true_labels, preds_label, output_dict=True)\n",
        "    tn, fp, fn, tp = confusion_matrix(true_labels, preds_label).ravel()\n",
        "    auc = roc_auc_score(true_labels, preds_label)\n",
        "\n",
        "    support_1 = fn + tp\n",
        "    support_total = tn + fp + fn + tp\n",
        "\n",
        "    precision_1 = tp / (tp + fp) if (tp + fp) > 0 else 0.0\n",
        "    recall_1 = tp / (tp + fn) if (tp + fn) > 0 else 0.0\n",
        "    f1_1 = (2 * precision_1 * recall_1) / (precision_1 + recall_1) if (precision_1 + recall_1) > 0 else 0.0\n",
        "\n",
        "    results_table.append([\n",
        "        f\"Assay {i+1}: {label}\", f\"{precision_1:.4f}\", f\"{recall_1:.4f}\", f\"{f1_1:.4f}\",\n",
        "        support_total, f\"{tn}\", f\"{fp}\", f\"{fn}\", f\"{tp}\", f\"{auc:.5f}\"\n",
        "    ])\n",
        "\n",
        "    macro_precisions.append(precision_1)\n",
        "    macro_recalls.append(recall_1)\n",
        "    macro_f1s.append(f1_1)\n",
        "\n",
        "    weighted_precisions.append(precision_1 * support_1)\n",
        "    weighted_recalls.append(recall_1 * support_1)\n",
        "    weighted_f1s.append(f1_1 * support_1)\n",
        "    total_support += support_1\n",
        "\n",
        "# Print detailed table\n",
        "headers = [\"Assay\", \"Precision\", \"Recall\", \"F1-Score\", \"Support\", \"TN\", \"FP\", \"FN\", \"TP\", \"AUC\"]\n",
        "print(tabulate(results_table, headers=headers, tablefmt=\"fancy_grid\"))\n",
        "\n",
        "# Print summary averages\n",
        "summary_table = [[\n",
        "    \"Macro Avg\", f\"{np.mean(macro_precisions):.6f}\", f\"{np.mean(macro_recalls):.6f}\",\n",
        "    f\"{np.mean(macro_f1s):.6f}\"\n",
        "], [\n",
        "    \"Weighted Avg\", f\"{np.sum(weighted_precisions)/total_support:.6f}\",\n",
        "    f\"{np.sum(weighted_recalls)/total_support:.6f}\",\n",
        "    f\"{np.sum(weighted_f1s)/total_support:.6f}\"\n",
        "]]\n",
        "print(\"\\n\" + tabulate(summary_table, headers=[\"Metric\", \"Precision\", \"Recall\", \"F1-Score\"], tablefmt=\"fancy_grid\"))"
      ],
      "metadata": {
        "id": "TET03Q-UPcuR",
        "outputId": "a6e9c509-d6a0-4657-ae47-202730d20e77",
        "colab": {
          "base_uri": "https://localhost:8080/"
        }
      },
      "execution_count": 28,
      "outputs": [
        {
          "output_type": "stream",
          "name": "stdout",
          "text": [
            "\n",
            "------------------------------------------------------------\n",
            "Final Classification Report for Selected Assays (Class 1 only):\n",
            "------------------------------------------------------------\n",
            "╒════════════════════════╤═════════════╤══════════╤════════════╤═══════════╤══════╤══════╤══════╤══════╤═════════╕\n",
            "│ Assay                  │   Precision │   Recall │   F1-Score │   Support │   TN │   FP │   FN │   TP │     AUC │\n",
            "╞════════════════════════╪═════════════╪══════════╪════════════╪═══════════╪══════╪══════╪══════╪══════╪═════════╡\n",
            "│ Assay 1: NR.AhR        │      0.4433 │   0.589  │     0.5059 │       647 │  520 │   54 │   30 │   43 │ 0.74748 │\n",
            "├────────────────────────┼─────────────┼──────────┼────────────┼───────────┼──────┼──────┼──────┼──────┼─────────┤\n",
            "│ Assay 2: NR.AR         │      0.4    │   0.1667 │     0.2353 │       647 │  632 │    3 │   10 │    2 │ 0.58097 │\n",
            "├────────────────────────┼─────────────┼──────────┼────────────┼───────────┼──────┼──────┼──────┼──────┼─────────┤\n",
            "│ Assay 3: NR.AR.LBD     │      0      │   0      │     0      │       647 │  629 │   10 │    8 │    0 │ 0.49218 │\n",
            "├────────────────────────┼─────────────┼──────────┼────────────┼───────────┼──────┼──────┼──────┼──────┼─────────┤\n",
            "│ Assay 4: NR.Aromatase  │      0.2273 │   0.1282 │     0.1639 │       647 │  591 │   17 │   34 │    5 │ 0.55012 │\n",
            "├────────────────────────┼─────────────┼──────────┼────────────┼───────────┼──────┼──────┼──────┼──────┼─────────┤\n",
            "│ Assay 5: NR.ER         │      0.3396 │   0.3529 │     0.3462 │       647 │  561 │   35 │   33 │   18 │ 0.64711 │\n",
            "├────────────────────────┼─────────────┼──────────┼────────────┼───────────┼──────┼──────┼──────┼──────┼─────────┤\n",
            "│ Assay 6: NR.ER.LBD     │      0.2174 │   0.25   │     0.2326 │       647 │  609 │   18 │   15 │    5 │ 0.61065 │\n",
            "├────────────────────────┼─────────────┼──────────┼────────────┼───────────┼──────┼──────┼──────┼──────┼─────────┤\n",
            "│ Assay 7: NR.PPAR.gamma │      0      │   0      │     0      │       647 │  610 │    6 │   31 │    0 │ 0.49513 │\n",
            "├────────────────────────┼─────────────┼──────────┼────────────┼───────────┼──────┼──────┼──────┼──────┼─────────┤\n",
            "│ Assay 8: SR.ARE        │      0.2781 │   0.4516 │     0.3443 │       647 │  445 │  109 │   51 │   42 │ 0.62743 │\n",
            "├────────────────────────┼─────────────┼──────────┼────────────┼───────────┼──────┼──────┼──────┼──────┼─────────┤\n",
            "│ Assay 9: SR.ATAD5      │      0.3214 │   0.2368 │     0.2727 │       647 │  590 │   19 │   29 │    9 │ 0.60282 │\n",
            "├────────────────────────┼─────────────┼──────────┼────────────┼───────────┼──────┼──────┼──────┼──────┼─────────┤\n",
            "│ Assay 10: SR.HSE       │      0.2368 │   0.4091 │     0.3    │       647 │  596 │   29 │   13 │    9 │ 0.68135 │\n",
            "├────────────────────────┼─────────────┼──────────┼────────────┼───────────┼──────┼──────┼──────┼──────┼─────────┤\n",
            "│ Assay 11: SR.MMP       │      0.3145 │   0.65   │     0.4239 │       647 │  502 │   85 │   21 │   39 │ 0.7526  │\n",
            "├────────────────────────┼─────────────┼──────────┼────────────┼───────────┼──────┼──────┼──────┼──────┼─────────┤\n",
            "│ Assay 12: SR.p53       │      0.16   │   0.2927 │     0.2069 │       647 │  543 │   63 │   29 │   12 │ 0.59436 │\n",
            "╘════════════════════════╧═════════════╧══════════╧════════════╧═══════════╧══════╧══════╧══════╧══════╧═════════╛\n",
            "\n",
            "╒══════════════╤═════════════╤══════════╤════════════╕\n",
            "│ Metric       │   Precision │   Recall │   F1-Score │\n",
            "╞══════════════╪═════════════╪══════════╪════════════╡\n",
            "│ Macro Avg    │    0.244877 │ 0.293924 │   0.252635 │\n",
            "├──────────────┼─────────────┼──────────┼────────────┤\n",
            "│ Weighted Avg │    0.279542 │ 0.377049 │   0.310141 │\n",
            "╘══════════════╧═════════════╧══════════╧════════════╛\n"
          ]
        }
      ]
    }
  ]
}