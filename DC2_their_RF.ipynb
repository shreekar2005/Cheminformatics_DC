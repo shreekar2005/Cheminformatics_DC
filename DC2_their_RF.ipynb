{
  "nbformat": 4,
  "nbformat_minor": 0,
  "metadata": {
    "colab": {
      "provenance": [],
      "include_colab_link": true
    },
    "kernelspec": {
      "name": "python3",
      "display_name": "Python 3"
    },
    "language_info": {
      "name": "python"
    }
  },
  "cells": [
    {
      "cell_type": "markdown",
      "metadata": {
        "id": "view-in-github",
        "colab_type": "text"
      },
      "source": [
        "<a href=\"https://colab.research.google.com/github/shreekar2005/Cheminformatics_DC/blob/main/DC2_their_RF.ipynb\" target=\"_parent\"><img src=\"https://colab.research.google.com/assets/colab-badge.svg\" alt=\"Open In Colab\"/></a>"
      ]
    },
    {
      "cell_type": "code",
      "source": [
        "from google.colab import drive\n",
        "drive.mount('/content/drive')"
      ],
      "metadata": {
        "id": "gpJkYQfafesJ",
        "outputId": "37c4f2be-9e57-44b5-d57f-bc90d699a831",
        "colab": {
          "base_uri": "https://localhost:8080/"
        }
      },
      "execution_count": 4,
      "outputs": [
        {
          "output_type": "stream",
          "name": "stdout",
          "text": [
            "Mounted at /content/drive\n"
          ]
        }
      ]
    },
    {
      "cell_type": "code",
      "execution_count": 5,
      "metadata": {
        "colab": {
          "base_uri": "https://localhost:8080/"
        },
        "id": "QU5LWunAFvPj",
        "outputId": "afb89ce3-5368-43d1-ed1c-3f71bf47acdc"
      },
      "outputs": [
        {
          "output_type": "stream",
          "name": "stdout",
          "text": [
            "\n",
            "------------------------------------------------------------\n",
            "Final Classification Report for Selected Assays (Class 1 only):\n",
            "------------------------------------------------------------\n",
            "training of 0 : NR.AhR\n",
            "training of 1 : NR.AR\n",
            "training of 2 : NR.AR.LBD\n",
            "training of 3 : NR.Aromatase\n",
            "training of 4 : NR.ER\n",
            "training of 5 : NR.ER.LBD\n",
            "training of 6 : NR.PPAR.gamma\n",
            "training of 7 : SR.ARE\n",
            "training of 8 : SR.ATAD5\n",
            "training of 9 : SR.HSE\n",
            "training of 10 : SR.MMP\n",
            "training of 11 : SR.p53\n",
            "╒════════════════════════╤═════════════╤══════════╤════════════╤═══════════╤══════╤══════╤══════╤══════╕\n",
            "│ Assay                  │   Precision │   Recall │   F1-Score │   Support │   TN │   FP │   FN │   TP │\n",
            "╞════════════════════════╪═════════════╪══════════╪════════════╪═══════════╪══════╪══════╪══════╪══════╡\n",
            "│ Assay 1: NR.AhR        │      0.7297 │   0.3699 │     0.4909 │       610 │  527 │   10 │   46 │   27 │\n",
            "├────────────────────────┼─────────────┼──────────┼────────────┼───────────┼──────┼──────┼──────┼──────┤\n",
            "│ Assay 2: NR.AR         │      0.6667 │   0.1667 │     0.2667 │       586 │  573 │    1 │   10 │    2 │\n",
            "├────────────────────────┼─────────────┼──────────┼────────────┼───────────┼──────┼──────┼──────┼──────┤\n",
            "│ Assay 3: NR.AR.LBD     │      0      │   0      │     0      │       582 │  573 │    1 │    8 │    0 │\n",
            "├────────────────────────┼─────────────┼──────────┼────────────┼───────────┼──────┼──────┼──────┼──────┤\n",
            "│ Assay 4: NR.Aromatase  │      1      │   0.0256 │     0.05   │       528 │  489 │    0 │   38 │    1 │\n",
            "├────────────────────────┼─────────────┼──────────┼────────────┼───────────┼──────┼──────┼──────┼──────┤\n",
            "│ Assay 5: NR.ER         │      0.7857 │   0.2157 │     0.3385 │       516 │  462 │    3 │   40 │   11 │\n",
            "├────────────────────────┼─────────────┼──────────┼────────────┼───────────┼──────┼──────┼──────┼──────┤\n",
            "│ Assay 6: NR.ER.LBD     │      0.75   │   0.15   │     0.25   │       600 │  579 │    1 │   17 │    3 │\n",
            "├────────────────────────┼─────────────┼──────────┼────────────┼───────────┼──────┼──────┼──────┼──────┤\n",
            "│ Assay 7: NR.PPAR.gamma │      0      │   0      │     0      │       605 │  573 │    1 │   31 │    0 │\n",
            "├────────────────────────┼─────────────┼──────────┼────────────┼───────────┼──────┼──────┼──────┼──────┤\n",
            "│ Assay 8: SR.ARE        │      0.5769 │   0.1613 │     0.2521 │       555 │  451 │   11 │   78 │   15 │\n",
            "├────────────────────────┼─────────────┼──────────┼────────────┼───────────┼──────┼──────┼──────┼──────┤\n",
            "│ Assay 9: SR.ATAD5      │      1      │   0.0263 │     0.0513 │       622 │  584 │    0 │   37 │    1 │\n",
            "├────────────────────────┼─────────────┼──────────┼────────────┼───────────┼──────┼──────┼──────┼──────┤\n",
            "│ Assay 10: SR.HSE       │      0.5    │   0.0909 │     0.1538 │       610 │  586 │    2 │   20 │    2 │\n",
            "├────────────────────────┼─────────────┼──────────┼────────────┼───────────┼──────┼──────┼──────┼──────┤\n",
            "│ Assay 11: SR.MMP       │      0.6389 │   0.3833 │     0.4792 │       543 │  470 │   13 │   37 │   23 │\n",
            "├────────────────────────┼─────────────┼──────────┼────────────┼───────────┼──────┼──────┼──────┼──────┤\n",
            "│ Assay 12: SR.p53       │      0.5    │   0.0488 │     0.0889 │       616 │  573 │    2 │   39 │    2 │\n",
            "╘════════════════════════╧═════════════╧══════════╧════════════╧═══════════╧══════╧══════╧══════╧══════╛\n",
            "\n",
            "╒══════════════╤═════════════╤══════════╤════════════╕\n",
            "│ Metric       │   Precision │   Recall │   F1-Score │\n",
            "╞══════════════╪═════════════╪══════════╪════════════╡\n",
            "│ Macro Avg    │     0.59566 │ 0.136541 │   0.201777 │\n",
            "├──────────────┼─────────────┼──────────┼────────────┤\n",
            "│ Weighted Avg │     0.64924 │ 0.178279 │   0.254961 │\n",
            "╘══════════════╧═════════════╧══════════╧════════════╛\n"
          ]
        }
      ],
      "source": [
        "import numpy as np\n",
        "import pandas as pd\n",
        "from scipy import io\n",
        "from sklearn.metrics import classification_report, confusion_matrix, roc_auc_score\n",
        "from sklearn.ensemble import RandomForestClassifier\n",
        "from tabulate import tabulate\n",
        "\n",
        "# Load data\n",
        "y_tr = pd.read_csv('drive/MyDrive/DATASET/tox21_labels_train.csv.gz', index_col=0, compression=\"gzip\")\n",
        "y_te = pd.read_csv('drive/MyDrive/DATASET/tox21_labels_test.csv.gz', index_col=0, compression=\"gzip\")\n",
        "x_tr_dense = pd.read_csv('drive/MyDrive/DATASET/tox21_dense_train.csv.gz', index_col=0, compression=\"gzip\").values\n",
        "x_te_dense = pd.read_csv('drive/MyDrive/DATASET/tox21_dense_test.csv.gz', index_col=0, compression=\"gzip\").values\n",
        "x_tr_sparse = io.mmread('drive/MyDrive/DATASET/tox21_sparse_train.mtx.gz').tocsc()\n",
        "x_te_sparse = io.mmread('drive/MyDrive/DATASET/tox21_sparse_test.mtx.gz').tocsc()\n",
        "\n",
        "# Filter out very sparse features\n",
        "sparse_col_idx = ((x_tr_sparse > 0).mean(0) > 0.05).A.ravel()\n",
        "x_tr = np.hstack([x_tr_dense, x_tr_sparse[:, sparse_col_idx].toarray()])\n",
        "x_te = np.hstack([x_te_dense, x_te_sparse[:, sparse_col_idx].toarray()])\n",
        "\n",
        "# Results storage\n",
        "results_table = []\n",
        "macro_precisions = []\n",
        "macro_recalls = []\n",
        "macro_f1s = []\n",
        "weighted_precisions = []\n",
        "weighted_recalls = []\n",
        "weighted_f1s = []\n",
        "total_support = 0\n",
        "\n",
        "print(\"\\n\" + \"-\"*60)\n",
        "print(\"Final Classification Report for Selected Assays (Class 1 only):\")\n",
        "print(\"-\"*60)\n",
        "\n",
        "# Loop over each assay\n",
        "for i, target in enumerate(y_tr.columns):\n",
        "    print(f\"training of {i} : {target}\")\n",
        "    rows_tr = np.isfinite(y_tr[target]).values\n",
        "    rows_te = np.isfinite(y_te[target]).values\n",
        "\n",
        "    rf = RandomForestClassifier(n_estimators=100, n_jobs=4)\n",
        "    rf.fit(x_tr[rows_tr], y_tr[target][rows_tr])\n",
        "\n",
        "    preds = rf.predict(x_te[rows_te])\n",
        "    true_labels = y_te[target][rows_te].values\n",
        "\n",
        "    # # Evaluate only if positives exist in both predictions and labels\n",
        "    # if np.sum(preds) == 0 and np.sum(true_labels) == 0:\n",
        "    #     continue\n",
        "    # elif np.sum(preds) == 0 or np.sum(true_labels) == 0:\n",
        "    #     continue\n",
        "\n",
        "    tn, fp, fn, tp = confusion_matrix(true_labels, preds).ravel()\n",
        "    support_1 = fn + tp\n",
        "    support_total = tn + fp + fn + tp\n",
        "\n",
        "    # Metrics for class 1\n",
        "    precision_1 = tp / (tp + fp) if (tp + fp) > 0 else 0.0\n",
        "    recall_1 = tp / (tp + fn) if (tp + fn) > 0 else 0.0\n",
        "    f1_1 = (2 * precision_1 * recall_1) / (precision_1 + recall_1) if (precision_1 + recall_1) > 0 else 0.0\n",
        "\n",
        "    results_table.append([\n",
        "        f\"Assay {i+1}: {target}\", f\"{precision_1:.4f}\", f\"{recall_1:.4f}\", f\"{f1_1:.4f}\", support_total,\n",
        "        f\"{tn}\", f\"{fp}\", f\"{fn}\", f\"{tp}\"\n",
        "    ])\n",
        "\n",
        "    # For average computation\n",
        "    macro_precisions.append(precision_1)\n",
        "    macro_recalls.append(recall_1)\n",
        "    macro_f1s.append(f1_1)\n",
        "\n",
        "    weighted_precisions.append(precision_1 * support_1)\n",
        "    weighted_recalls.append(recall_1 * support_1)\n",
        "    weighted_f1s.append(f1_1 * support_1)\n",
        "    total_support += support_1\n",
        "\n",
        "# Display table\n",
        "headers = [\"Assay\", \"Precision\", \"Recall\", \"F1-Score\", \"Support\", \"TN\", \"FP\", \"FN\", \"TP\"]\n",
        "print(tabulate(results_table, headers=headers, tablefmt=\"fancy_grid\"))\n",
        "\n",
        "# Macro and weighted avg\n",
        "summary_table = [[\n",
        "    \"Macro Avg\", f\"{np.mean(macro_precisions):.6f}\", f\"{np.mean(macro_recalls):.6f}\",\n",
        "    f\"{np.mean(macro_f1s):.6f}\"\n",
        "], [\n",
        "    \"Weighted Avg\", f\"{np.sum(weighted_precisions)/total_support:.6f}\",\n",
        "    f\"{np.sum(weighted_recalls)/total_support:.6f}\",\n",
        "    f\"{np.sum(weighted_f1s)/total_support:.6f}\"\n",
        "]]\n",
        "print(\"\\n\" + tabulate(summary_table, headers=[\"Metric\", \"Precision\", \"Recall\", \"F1-Score\"], tablefmt=\"fancy_grid\"))\n"
      ]
    }
  ]
}